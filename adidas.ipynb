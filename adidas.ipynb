{
  "nbformat": 4,
  "nbformat_minor": 0,
  "metadata": {
    "colab": {
      "name": "adidas.ipynb",
      "provenance": [],
      "collapsed_sections": [],
      "mount_file_id": "1-7xpU5uKHaKTGCVRpYvX9-ROOpi7Qsfi",
      "authorship_tag": "ABX9TyNdFwOTSLsjA1S47MQCyNOE",
      "include_colab_link": true
    },
    "kernelspec": {
      "name": "python3",
      "display_name": "Python 3"
    }
  },
  "cells": [
    {
      "cell_type": "markdown",
      "metadata": {
        "id": "view-in-github",
        "colab_type": "text"
      },
      "source": [
        "<a href=\"https://colab.research.google.com/github/abhi9716/image_scrape/blob/master/adidas.ipynb\" target=\"_parent\"><img src=\"https://colab.research.google.com/assets/colab-badge.svg\" alt=\"Open In Colab\"/></a>"
      ]
    },
    {
      "cell_type": "code",
      "metadata": {
        "id": "kWCFAMzgwVY0",
        "colab_type": "code",
        "outputId": "855c1a21-ffe9-497b-fdae-afe244e6e3e7",
        "colab": {
          "base_uri": "https://localhost:8080/",
          "height": 357
        }
      },
      "source": [
        "!pip install selenium\n",
        "!apt-get update # to update ubuntu to correctly run apt install\n",
        "!apt install chromium-chromedriver\n",
        "!cp /usr/lib/chromium-browser/chromedriver /usr/bin"
      ],
      "execution_count": 0,
      "outputs": [
        {
          "output_type": "stream",
          "text": [
            "Requirement already satisfied: selenium in /usr/local/lib/python3.6/dist-packages (3.141.0)\n",
            "Requirement already satisfied: urllib3 in /usr/local/lib/python3.6/dist-packages (from selenium) (1.24.3)\n",
            "Hit:1 http://security.ubuntu.com/ubuntu bionic-security InRelease\n",
            "Ign:2 https://developer.download.nvidia.com/compute/cuda/repos/ubuntu1804/x86_64  InRelease\n",
            "Hit:3 https://cloud.r-project.org/bin/linux/ubuntu bionic-cran35/ InRelease\n",
            "Hit:4 http://ppa.launchpad.net/graphics-drivers/ppa/ubuntu bionic InRelease\n",
            "Hit:5 http://archive.ubuntu.com/ubuntu bionic InRelease\n",
            "Ign:6 https://developer.download.nvidia.com/compute/machine-learning/repos/ubuntu1804/x86_64  InRelease\n",
            "Hit:7 https://developer.download.nvidia.com/compute/cuda/repos/ubuntu1804/x86_64  Release\n",
            "Hit:8 https://developer.download.nvidia.com/compute/machine-learning/repos/ubuntu1804/x86_64  Release\n",
            "Hit:9 http://archive.ubuntu.com/ubuntu bionic-updates InRelease\n",
            "Hit:10 http://ppa.launchpad.net/marutter/c2d4u3.5/ubuntu bionic InRelease\n",
            "Hit:11 http://archive.ubuntu.com/ubuntu bionic-backports InRelease\n",
            "Reading package lists... Done\n",
            "Reading package lists... Done\n",
            "Building dependency tree       \n",
            "Reading state information... Done\n",
            "chromium-chromedriver is already the newest version (81.0.4044.138-0ubuntu0.18.04.1).\n",
            "0 upgraded, 0 newly installed, 0 to remove and 45 not upgraded.\n",
            "cp: '/usr/lib/chromium-browser/chromedriver' and '/usr/bin/chromedriver' are the same file\n"
          ],
          "name": "stdout"
        }
      ]
    },
    {
      "cell_type": "code",
      "metadata": {
        "id": "plFHGfVqwn25",
        "colab_type": "code",
        "colab": {}
      },
      "source": [
        "from selenium import webdriver\n",
        "from selenium.webdriver.common.keys import Keys\n",
        "from selenium.webdriver.support.ui import WebDriverWait\n",
        "# from selenium.webdriver.common.keys import Keys\n",
        "from selenium.webdriver.firefox.options import Options\n",
        "from bs4 import BeautifulSoup\n",
        "import pandas as pd\n",
        "import re\n",
        "import os\n",
        "import time\n",
        "import requests\n",
        "import sys\n",
        "from selenium.webdriver.common.action_chains import ActionChains\n",
        "from selenium.webdriver.support import expected_conditions as EC\n",
        "sys.path.insert(0,'/usr/lib/chromium-browser/chromedriver')\n",
        "from selenium import webdriver\n",
        "chrome_options = webdriver.ChromeOptions()\n",
        "chrome_options.add_argument('--headless')\n",
        "chrome_options.add_argument('--no-sandbox')\n",
        "chrome_options.add_argument('--disable-dev-shm-usage')"
      ],
      "execution_count": 0,
      "outputs": []
    },
    {
      "cell_type": "code",
      "metadata": {
        "id": "PzpMvnI1wrtn",
        "colab_type": "code",
        "outputId": "94684741-7d8c-4733-a435-8b9bf8dc7f6d",
        "colab": {
          "base_uri": "https://localhost:8080/",
          "height": 51
        }
      },
      "source": [
        "driver =webdriver.Chrome('chromedriver',chrome_options=chrome_options)\n",
        "driver.get(\"https://shop.adidas.co.in/#c/men-tshirt/Pag-880/No-0/0\")\n",
        "time.sleep(5)\n",
        "# driver.find_element_by_id('consent_prompt_submit').click()"
      ],
      "execution_count": 0,
      "outputs": [
        {
          "output_type": "stream",
          "text": [
            "/usr/local/lib/python3.6/dist-packages/ipykernel_launcher.py:1: DeprecationWarning: use options instead of chrome_options\n",
            "  \"\"\"Entry point for launching an IPython kernel.\n"
          ],
          "name": "stderr"
        }
      ]
    },
    {
      "cell_type": "code",
      "metadata": {
        "id": "OT_E9ozQxGHo",
        "colab_type": "code",
        "colab": {}
      },
      "source": [
        "links=[]\n",
        "a=driver.find_elements_by_css_selector('a.productIdentifier.productImageWrap')\n",
        "\n",
        "for d in a:\n",
        "  # print(d.get_attribute('href'))\n",
        "  links.append(d.get_attribute('href'))"
      ],
      "execution_count": 0,
      "outputs": []
    },
    {
      "cell_type": "code",
      "metadata": {
        "id": "xtKTFR0pxIKZ",
        "colab_type": "code",
        "outputId": "c88960cf-b974-4257-c36a-8108fc67201f",
        "colab": {
          "base_uri": "https://localhost:8080/",
          "height": 34
        }
      },
      "source": [
        "links=(list(set(links)))\n",
        "len(links)"
      ],
      "execution_count": 0,
      "outputs": [
        {
          "output_type": "execute_result",
          "data": {
            "text/plain": [
              "880"
            ]
          },
          "metadata": {
            "tags": []
          },
          "execution_count": 8
        }
      ]
    },
    {
      "cell_type": "code",
      "metadata": {
        "id": "F21sR3bAxJ4O",
        "colab_type": "code",
        "colab": {}
      },
      "source": [
        "from urllib.parse import urlparse\n",
        "def save_img(prod,images):\n",
        "  parent_dir=\"/content/drive/My Drive/tops-data/adidas_n_men/\"\n",
        "  path = os.path.join(parent_dir, prod.replace(\"/\",\"-\"))\n",
        "  # print(path)\n",
        "  if not os.path.isdir(path):\n",
        "    os.mkdir(path)\n",
        "  for i,l in enumerate(images):\n",
        "    if(l.startswith('https')):\n",
        "      t=urlparse(l)\n",
        "      n=os.path.basename(t.path)\n",
        "      with open(path +\"/\"+ str(i)+\".jpg\", 'wb') as handle:\n",
        "        response = requests.get(l, stream=True)\n",
        "\n",
        "        if not response.ok:\n",
        "            print(response)\n",
        "\n",
        "        for block in response.iter_content(1024):\n",
        "            if not block:\n",
        "                break\n",
        "\n",
        "            handle.write(block)"
      ],
      "execution_count": 0,
      "outputs": []
    },
    {
      "cell_type": "code",
      "metadata": {
        "id": "QKzA7sR_xiCu",
        "colab_type": "code",
        "colab": {}
      },
      "source": [
        "from selenium.webdriver.common.by import By\n",
        "from selenium.common.exceptions import TimeoutException"
      ],
      "execution_count": 0,
      "outputs": []
    },
    {
      "cell_type": "code",
      "metadata": {
        "id": "NC3DNSQvxPsT",
        "colab_type": "code",
        "outputId": "c26c41d1-b726-4cb4-b50d-9807bff83d06",
        "colab": {
          "base_uri": "https://localhost:8080/",
          "height": 1000
        }
      },
      "source": [
        "driver =webdriver.Chrome('chromedriver',chrome_options=chrome_options)\n",
        "driver.implicitly_wait(10)\n",
        "h=0\n",
        "try:\n",
        "  for link in links[0:]: \n",
        "    h+=1\n",
        "    print(h)\n",
        "    print(link)\n",
        "    driver.get(link)\n",
        "    time.sleep(5)\n",
        "    driver.implicitly_wait(10)\n",
        "    # try:\n",
        "    #   WebDriverWait(driver, 10).until(EC.presence_of_element_located((By.ID, 'altColor_${pCode}')))\n",
        "    # except TimeoutException:\n",
        "    #   print(\"Loading took too much time!\")\n",
        "    #   driver =webdriver.Chrome('chromedriver',chrome_options=chrome_options)\n",
        "    #   driver.implicitly_wait(10)\n",
        "  \n",
        "      # driver.execute_script(\"window.scrollTo(0, document.body.scrollHeight/5);\")\n",
        "    g=driver.find_elements_by_css_selector('div.altColor > a')\n",
        "    lnk=[]\n",
        "    for n in g:\n",
        "      lnk.append(n.get_attribute('href'))\n",
        "    print(len(g))\n",
        "    if g:\n",
        "      for k in lnk:\n",
        "        # driver =webdriver.Chrome('chromedriver',chrome_options=chrome_options)\n",
        "        # driver.implicitly_wait(10)\n",
        "        \n",
        "        driver.get(k)\n",
        "        time.sleep(4)\n",
        "        # l=driver.find_elements_by_css_selector('div.altColor')\n",
        "\n",
        "        # # l=driver.find_elements_by_css_selector('li.colour-picker__list-item')[k]\n",
        "        # ActionChains(driver).move_to_element(l[k]).click(l[k]).perform()\n",
        "        # driver.implicitly_wait(10)\n",
        "        col=driver.find_elements_by_css_selector('div.altImage > img')\n",
        "        a=driver.find_elements_by_id('productName')[0].text\n",
        "        b=driver.find_elements_by_id('productColor')[0].text\n",
        "        prod=a+\"-\"+b\n",
        "        images=[]\n",
        "        for img in col:\n",
        "          images.append(img.get_attribute('src').replace(\"thumb\",\"zoom\"))\n",
        "        save_img(prod,images)\n",
        "        print(len(images))\n",
        "      print(images[-1])\n",
        "      # print(prod)\n",
        "      \n",
        "    else:\n",
        "      col=driver.find_elements_by_css_selector('div.altImage > img')\n",
        "      a=driver.find_elements_by_id('productName')[0].text\n",
        "      b=driver.find_elements_by_id('productColor')[0].text\n",
        "      prod=a+\"-\"+b\n",
        "      images=[]\n",
        "      for img in col:\n",
        "        images.append(img.get_attribute('src'))\n",
        "      save_img(prod,images)\n",
        "    \n",
        "except:\n",
        "  pass\n"
      ],
      "execution_count": 0,
      "outputs": [
        {
          "output_type": "stream",
          "text": [
            "/usr/local/lib/python3.6/dist-packages/ipykernel_launcher.py:1: DeprecationWarning: use options instead of chrome_options\n",
            "  \"\"\"Entry point for launching an IPython kernel.\n"
          ],
          "name": "stderr"
        },
        {
          "output_type": "stream",
          "text": [
            "1\n",
            "https://shop.adidas.co.in/#!product/DX2146_257teem\n",
            "4\n",
            "6\n",
            "6\n",
            "6\n",
            "7\n",
            "https://content.adidas.co.in/static/Product-DZ1814/Men_RUNNING_T-SHIRT_SHORT_SLEEVE_DZ1814_7.jpg.zoom\n",
            "2\n",
            "https://shop.adidas.co.in/#!product/DU8436_tangrimegfxt\n",
            "1\n",
            "6\n",
            "https://content.adidas.co.in/static/Product-DU8436/adidas_DU8436_6.jpg.zoom\n",
            "3\n",
            "https://shop.adidas.co.in/#!product/DH2280_nmdt-shirt\n",
            "1\n",
            "7\n",
            "https://content.adidas.co.in/static/Product-DH2280/Men_ORIGINALS_GRAPHIC_TEE_SHORT_SLEEVE_DH2280_7.jpg.zoom\n",
            "4\n",
            "https://shop.adidas.co.in/#!product/FM1433_frsttee\n",
            "2\n",
            "7\n",
            "7\n",
            "https://content.adidas.co.in/static/Product-FM1431/UNISEX_ORIGINALS_T-SHIRTS_FM1431_7.jpg.zoom\n",
            "5\n",
            "https://shop.adidas.co.in/#!product/EC7362_bbprinttee1\n",
            "1\n",
            "6\n",
            "https://content.adidas.co.in/static/Product-EC7362/Men_SKATEBOARDING_GRAPHIC_TEE_SHORT_SLEEVE_EC7362_6.jpg.zoom\n",
            "6\n",
            "https://shop.adidas.co.in/#!product/ED7067_bodegapricetag\n",
            "1\n",
            "7\n",
            "https://content.adidas.co.in/static/Product-ED7067/Men_ORIGINALS_T-SHIRT_SHORT_SLEEVE_ED7067_7.jpg.zoom\n",
            "7\n",
            "https://shop.adidas.co.in/#!product/ED6918_vintagetee\n",
            "2\n",
            "7\n",
            "6\n",
            "https://content.adidas.co.in/static/Product-ED6918/Men_ORIGINALS_GRAPHIC_TEE_SHORT_SLEEVE_ED6918_6.jpg.zoom\n",
            "8\n",
            "https://shop.adidas.co.in/#!product/FL6966_otr12zipm\n",
            "1\n",
            "7\n",
            "https://content.adidas.co.in/static/Product-FL6966/MEN_RUNNING_T-SHIRTS_FL6966_7.jpg.zoom\n",
            "9\n",
            "https://shop.adidas.co.in/#!product/ED9286_otrlsteem\n",
            "1\n",
            "7\n",
            "https://content.adidas.co.in/static/Product-ED9286/MEN_RUNNING_T-SHIRTS_ED9286_7.jpg.zoom\n",
            "10\n",
            "https://shop.adidas.co.in/#!product/DZ4921_runrsingletm\n",
            "1\n",
            "7\n",
            "https://content.adidas.co.in/static/Product-DZ4921/MEN_RUNNING_TOPS_DZ4921_7.jpg.zoom\n",
            "11\n",
            "https://shop.adidas.co.in/#!product/FM1531_rippletee\n",
            "1\n",
            "7\n",
            "https://content.adidas.co.in/static/Product-FM1531/MEN_ORIGINALS_T-SHIRTS_FM1531_7.jpg.zoom\n",
            "12\n",
            "https://shop.adidas.co.in/#!product/CF7163_ask360teels\n",
            "2\n",
            "5\n",
            "5\n",
            "https://content.adidas.co.in/static/Product-CF7163/Men_TRAINING_T-SHIRT_LONG_SLEEVE_CF7163_5.jpg.zoom\n",
            "13\n",
            "https://shop.adidas.co.in/#!product/DX2144_257teem\n",
            "4\n",
            "6\n",
            "6\n",
            "6\n",
            "7\n",
            "https://content.adidas.co.in/static/Product-DZ1814/Men_RUNNING_T-SHIRT_SHORT_SLEEVE_DZ1814_7.jpg.zoom\n",
            "14\n",
            "https://shop.adidas.co.in/#!product/BS3372_mtcpolo3\n",
            "2\n",
            "4\n",
            "4\n",
            "https://content.adidas.co.in/static/Product-BS3372/Men_TENNIS_POLO_SHIRT_SHORT_SLEEVE_BS3372_4.jpg.zoom\n",
            "15\n",
            "https://shop.adidas.co.in/#!product/DQ0931_hardenlogotee\n",
            "1\n",
            "7\n",
            "https://content.adidas.co.in/static/Product-DQ0931/MEN_BASKETBALL_GRAPHIC_TEE_SHORT_SLEEVE_DQ0931_7.jpg.zoom\n",
            "16\n",
            "https://shop.adidas.co.in/#!product/EI5723_owntheruntee\n",
            "4\n",
            "5\n",
            "5\n",
            "7\n",
            "7\n",
            "https://content.adidas.co.in/static/Product-DZ9009/Men_RUNNING_T-SHIRT_SHORT_SLEEVE_DZ9009_7.jpg.zoom\n",
            "17\n",
            "https://shop.adidas.co.in/#!product/CG0253_mzneteeffkn\n",
            "2\n",
            "5\n",
            "5\n",
            "https://content.adidas.co.in/static/Product-CG0253/adidas_CG0253_5.jpg.zoom\n",
            "18\n",
            "https://shop.adidas.co.in/#!product/EC5354_smupolos191\n",
            "3\n",
            "4\n",
            "4\n",
            "4\n",
            "https://content.adidas.co.in/static/Product-EC5355/MEN_Training_POLO_SHIRT_SHORT_SLEEVE_EC5355_4.jpg.zoom\n",
            "19\n",
            "https://shop.adidas.co.in/#!product/DH4944_kavalgrpteew\n",
            "1\n",
            "7\n",
            "https://content.adidas.co.in/static/Product-DH4944/Men_ORIGINALS_T-SHIRT_SHORT_SLEEVE_DH4944_7.jpg.zoom\n",
            "20\n",
            "https://shop.adidas.co.in/#!product/FN1451_cctcbpqpolo\n",
            "2\n",
            "7\n",
            "7\n",
            "https://content.adidas.co.in/static/Product-FN1451/MEN_TENNIS_POLO_SHIRTS_FN1451_7.jpg.zoom\n",
            "21\n",
            "https://shop.adidas.co.in/#!product/DY1798_bteebadge\n",
            "2\n",
            "5\n",
            "5\n",
            "https://content.adidas.co.in/static/Product-DY1797/MEN_Training_GRAPHIC_TEE_SHORT_SLEEVE_DY1797_5.jpg.zoom\n",
            "22\n",
            "https://shop.adidas.co.in/#!product/FM6022_mfavtee\n",
            "2\n",
            "7\n",
            "7\n",
            "https://content.adidas.co.in/static/Product-FM6023/MEN_CORE_T-SHIRTS_FM6023_7.jpg.zoom\n",
            "23\n",
            "https://shop.adidas.co.in/#!product/DU0858_club3strtee\n",
            "4\n",
            "6\n",
            "7\n",
            "6\n",
            "5\n",
            "https://content.adidas.co.in/static/Product-DU0861/MEN_TENNIS_T-SHIRT_SHORT_SLEEVE_DU0861_5.jpg.zoom\n",
            "24\n",
            "https://shop.adidas.co.in/#!product/CF3109_islandskatete\n",
            "1\n",
            "5\n",
            "https://content.adidas.co.in/static/Product-CF3109/Men_SKATEBOARDING_GRAPHIC_TEE_SHORT_SLEEVE_CF3109_5.jpg.zoom\n",
            "25\n",
            "https://shop.adidas.co.in/#!product/FM9966_essentialtee\n",
            "5\n",
            "7\n",
            "7\n",
            "7\n",
            "7\n",
            "7\n",
            "https://content.adidas.co.in/static/Product-FM9967/MEN_ORIGINALS_T-SHIRTS_FM9967_7.jpg.zoom\n",
            "26\n",
            "https://shop.adidas.co.in/#!product/FM6230_e3stee\n",
            "8\n",
            "7\n",
            "6\n",
            "7\n",
            "7\n",
            "4\n",
            "4\n",
            "5\n",
            "7\n",
            "https://content.adidas.co.in/static/Product-FM6228/MEN_CORE_T-SHIRTS_FM6228_7.jpg.zoom\n",
            "27\n",
            "https://shop.adidas.co.in/#!product/DH4500_tppoloydst2\n",
            "1\n",
            "4\n",
            "https://content.adidas.co.in/static/Product-DH4500/Men_TRAINING_POLO_SHIRT_SHORT_SLEEVE_DH4500_4.jpg.zoom\n",
            "28\n",
            "https://shop.adidas.co.in/#!product/DV3085_mhbosgrapht\n",
            "2\n",
            "7\n",
            "5\n",
            "https://content.adidas.co.in/static/Product-DV3087/adidas_DV3087_5.jpg.zoom\n",
            "29\n",
            "https://shop.adidas.co.in/#!product/DQ1847_chillssteem\n",
            "2\n",
            "5\n",
            "5\n",
            "https://content.adidas.co.in/static/Product-DQ1847/MEN_RUNNING_T-SHIRT_SHORT_SLEEVE_DQ1847_5.jpg.zoom\n",
            "30\n",
            "https://shop.adidas.co.in/#!product/DX1805_clubsolidpolo\n",
            "3\n",
            "7\n",
            "7\n",
            "5\n",
            "https://content.adidas.co.in/static/Product-DX1806/MEN_TENNIS_POLO_SHIRT_SHORT_SLEEVE_DX1806_5.jpg.zoom\n",
            "31\n",
            "https://shop.adidas.co.in/#!product/FJ6574_idstadiumtee\n",
            "5\n",
            "4\n",
            "4\n"
          ],
          "name": "stdout"
        }
      ]
    },
    {
      "cell_type": "code",
      "metadata": {
        "id": "xcdrtARIxa4X",
        "colab_type": "code",
        "colab": {}
      },
      "source": [
        ""
      ],
      "execution_count": 0,
      "outputs": []
    }
  ]
}